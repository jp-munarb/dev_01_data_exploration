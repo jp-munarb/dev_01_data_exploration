{
 "cells": [
  {
   "cell_type": "code",
   "execution_count": 1,
   "metadata": {},
   "outputs": [],
   "source": [
    "import pandas as pd\n",
    "import numpy as np\n",
    "from matplotlib import pyplot as plt\n",
    "import seaborn as sns"
   ]
  },
  {
   "cell_type": "code",
   "execution_count": 2,
   "metadata": {},
   "outputs": [],
   "source": [
    "df = pd.read_csv('police_deaths_USA_v6.csv')"
   ]
  },
  {
   "cell_type": "code",
   "execution_count": 3,
   "metadata": {},
   "outputs": [
    {
     "data": {
      "text/html": [
       "<div>\n",
       "<style scoped>\n",
       "    .dataframe tbody tr th:only-of-type {\n",
       "        vertical-align: middle;\n",
       "    }\n",
       "\n",
       "    .dataframe tbody tr th {\n",
       "        vertical-align: top;\n",
       "    }\n",
       "\n",
       "    .dataframe thead th {\n",
       "        text-align: right;\n",
       "    }\n",
       "</style>\n",
       "<table border=\"1\" class=\"dataframe\">\n",
       "  <thead>\n",
       "    <tr style=\"text-align: right;\">\n",
       "      <th></th>\n",
       "      <th>Rank</th>\n",
       "      <th>Name</th>\n",
       "      <th>Age</th>\n",
       "      <th>End_Of_Watch</th>\n",
       "      <th>Day_Of_Week</th>\n",
       "      <th>Cause</th>\n",
       "      <th>Department</th>\n",
       "      <th>State</th>\n",
       "      <th>Tour</th>\n",
       "      <th>Badge</th>\n",
       "      <th>Weapon</th>\n",
       "      <th>Offender</th>\n",
       "      <th>Summary</th>\n",
       "    </tr>\n",
       "  </thead>\n",
       "  <tbody>\n",
       "    <tr>\n",
       "      <th>0</th>\n",
       "      <td>Constable</td>\n",
       "      <td>Darius Quimby</td>\n",
       "      <td>NaN</td>\n",
       "      <td>1791-01-03</td>\n",
       "      <td>Monday</td>\n",
       "      <td>Stabbed</td>\n",
       "      <td>Albany County Constable's Office, New York</td>\n",
       "      <td>New York</td>\n",
       "      <td>NaN</td>\n",
       "      <td>NaN</td>\n",
       "      <td>Edged weapon; Knife</td>\n",
       "      <td>Executed in 1791</td>\n",
       "      <td>Constable Darius Quimby was stabbed to death w...</td>\n",
       "    </tr>\n",
       "    <tr>\n",
       "      <th>1</th>\n",
       "      <td>Sheriff</td>\n",
       "      <td>Cornelius Hogeboom</td>\n",
       "      <td>53.0</td>\n",
       "      <td>1791-10-22</td>\n",
       "      <td>Saturday</td>\n",
       "      <td>Gunfire</td>\n",
       "      <td>Columbia County Sheriff's Office, New York</td>\n",
       "      <td>New York</td>\n",
       "      <td>2 years</td>\n",
       "      <td>NaN</td>\n",
       "      <td>Gun; Unknown type</td>\n",
       "      <td>Acquitted</td>\n",
       "      <td>Sheriff Cornelius Hogeboom was shot and killed...</td>\n",
       "    </tr>\n",
       "    <tr>\n",
       "      <th>2</th>\n",
       "      <td>Deputy Sheriff</td>\n",
       "      <td>Isaac Smith</td>\n",
       "      <td>NaN</td>\n",
       "      <td>1792-05-17</td>\n",
       "      <td>Thursday</td>\n",
       "      <td>Gunfire</td>\n",
       "      <td>Westchester County Sheriff's Department, New York</td>\n",
       "      <td>New York</td>\n",
       "      <td>NaN</td>\n",
       "      <td>NaN</td>\n",
       "      <td>Handgun</td>\n",
       "      <td>Executed in 1793</td>\n",
       "      <td>Deputy Sheriff Isaac Smith was shot and killed...</td>\n",
       "    </tr>\n",
       "    <tr>\n",
       "      <th>3</th>\n",
       "      <td>Marshal</td>\n",
       "      <td>Robert Forsyth</td>\n",
       "      <td>40.0</td>\n",
       "      <td>1794-01-11</td>\n",
       "      <td>Saturday</td>\n",
       "      <td>Gunfire</td>\n",
       "      <td>United States Department of Justice - United S...</td>\n",
       "      <td>United States</td>\n",
       "      <td>4 years, 4 months</td>\n",
       "      <td>4</td>\n",
       "      <td>Handgun; Pistol</td>\n",
       "      <td>Escaped</td>\n",
       "      <td>Marshal Robert Forsyth, believed to be one of ...</td>\n",
       "    </tr>\n",
       "    <tr>\n",
       "      <th>4</th>\n",
       "      <td>Deputy Sheriff</td>\n",
       "      <td>Robert Berwick</td>\n",
       "      <td>NaN</td>\n",
       "      <td>1797-06-29</td>\n",
       "      <td>Thursday</td>\n",
       "      <td>Gunfire</td>\n",
       "      <td>New York County Sheriff's Office, New York</td>\n",
       "      <td>New York</td>\n",
       "      <td>NaN</td>\n",
       "      <td>NaN</td>\n",
       "      <td>Handgun</td>\n",
       "      <td>Executed in 1797</td>\n",
       "      <td>Deputy Sheriff Robert Berwick was shot and kil...</td>\n",
       "    </tr>\n",
       "  </tbody>\n",
       "</table>\n",
       "</div>"
      ],
      "text/plain": [
       "             Rank                Name   Age End_Of_Watch Day_Of_Week    Cause  \\\n",
       "0       Constable       Darius Quimby   NaN   1791-01-03      Monday  Stabbed   \n",
       "1         Sheriff  Cornelius Hogeboom  53.0   1791-10-22    Saturday  Gunfire   \n",
       "2  Deputy Sheriff         Isaac Smith   NaN   1792-05-17    Thursday  Gunfire   \n",
       "3         Marshal      Robert Forsyth  40.0   1794-01-11    Saturday  Gunfire   \n",
       "4  Deputy Sheriff      Robert Berwick   NaN   1797-06-29    Thursday  Gunfire   \n",
       "\n",
       "                                          Department          State  \\\n",
       "0         Albany County Constable's Office, New York       New York   \n",
       "1         Columbia County Sheriff's Office, New York       New York   \n",
       "2  Westchester County Sheriff's Department, New York       New York   \n",
       "3  United States Department of Justice - United S...  United States   \n",
       "4         New York County Sheriff's Office, New York       New York   \n",
       "\n",
       "                Tour Badge               Weapon          Offender  \\\n",
       "0                NaN   NaN  Edged weapon; Knife  Executed in 1791   \n",
       "1            2 years   NaN    Gun; Unknown type         Acquitted   \n",
       "2                NaN   NaN              Handgun  Executed in 1793   \n",
       "3  4 years, 4 months     4      Handgun; Pistol           Escaped   \n",
       "4                NaN   NaN              Handgun  Executed in 1797   \n",
       "\n",
       "                                             Summary  \n",
       "0  Constable Darius Quimby was stabbed to death w...  \n",
       "1  Sheriff Cornelius Hogeboom was shot and killed...  \n",
       "2  Deputy Sheriff Isaac Smith was shot and killed...  \n",
       "3  Marshal Robert Forsyth, believed to be one of ...  \n",
       "4  Deputy Sheriff Robert Berwick was shot and kil...  "
      ]
     },
     "execution_count": 3,
     "metadata": {},
     "output_type": "execute_result"
    }
   ],
   "source": [
    "df.head()"
   ]
  },
  {
   "cell_type": "code",
   "execution_count": 4,
   "metadata": {},
   "outputs": [
    {
     "data": {
      "text/plain": [
       "<Axes: xlabel='Age', ylabel='Count'>"
      ]
     },
     "execution_count": 4,
     "metadata": {},
     "output_type": "execute_result"
    },
    {
     "data": {
      "image/png": "[encoded data removed]",
      "text/plain": [
       "<Figure size 640x480 with 1 Axes>"
      ]
     },
     "metadata": {},
     "output_type": "display_data"
    }
   ],
   "source": [
    "sns.histplot(df['Age'])"
   ]
  },
  {
   "cell_type": "code",
   "execution_count": null,
   "metadata": {},
   "outputs": [],
   "source": []
  }
 ],
 "metadata": {
  "kernelspec": {
   "display_name": "emiba_25_data_exploration_1",
   "language": "python",
   "name": "python3"
  },
  "language_info": {
   "codemirror_mode": {
    "name": "ipython",
    "version": 3
   },
   "file_extension": ".py",
   "mimetype": "text/x-python",
   "name": "python",
   "nbconvert_exporter": "python",
   "pygments_lexer": "ipython3",
   "version": "3.11.11"
  }
 },
 "nbformat": 4,
 "nbformat_minor": 2
}
